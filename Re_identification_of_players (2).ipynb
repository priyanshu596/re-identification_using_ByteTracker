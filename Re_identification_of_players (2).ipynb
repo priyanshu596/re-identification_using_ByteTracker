{
  "nbformat": 4,
  "nbformat_minor": 0,
  "metadata": {
    "colab": {
      "provenance": [],
      "gpuType": "T4"
    },
    "kernelspec": {
      "name": "python3",
      "display_name": "Python 3"
    },
    "language_info": {
      "name": "python"
    },
    "accelerator": "GPU"
  },
  "cells": [
    {
      "cell_type": "code",
      "source": [
        "!pip install ultralytics --quiet\n"
      ],
      "metadata": {
        "id": "MtDh0eE_-0fi"
      },
      "execution_count": null,
      "outputs": []
    },
    {
      "cell_type": "code",
      "source": [
        "# Step 1: Install gdown if not already installed\n",
        "!pip install -U gdown\n",
        "\n",
        "# Step 2: Use gdown with file ID to download the actual model\n",
        "!gdown --id 1-5fOSHOSB9UXyP_enOoZNAMScrePVcMD --output best.pt\n"
      ],
      "metadata": {
        "id": "4W3r2L5EBvUv"
      },
      "execution_count": null,
      "outputs": []
    },
    {
      "cell_type": "code",
      "source": [
        "!git clone https://github.com/ifzhang/ByteTrack.git\n",
        "%cd ByteTrack\n"
      ],
      "metadata": {
        "id": "S7bv2uvqUKIm"
      },
      "execution_count": null,
      "outputs": []
    },
    {
      "cell_type": "code",
      "source": [
        "!pip install -r requirements.txt --quiet\n",
        "!pip install cython lap --quiet\n",
        "!python setup.py develop --quiet\n"
      ],
      "metadata": {
        "id": "txk61zo2b73M"
      },
      "execution_count": null,
      "outputs": []
    },
    {
      "cell_type": "code",
      "source": [
        "from ultralytics import YOLO\n",
        "\n",
        "# Load the model\n",
        "model = YOLO('/content/best.pt')  # 🔁 Use your trained model\n",
        "\n",
        "# Run tracking on video (this uses ByteTrack by default)\n",
        "model.track(\n",
        "    source='/content/15sec_input_720p.mp4',   # 📹 Your input video\n",
        "    conf=0.4,\n",
        "    iou=0.5,\n",
        "    tracker='bytetrack.yaml',       # 🧠 ByteTrack config (built-in)\n",
        "    classes=[1, 2, 3],              # 🧍‍♂️ Track all except ball (class 0)\n",
        "    save=True,\n",
        "    project='/content',             # 💾 Save the result video\n",
        "    name='tracked_output'           # 📁 Output directory: runs/track/tracked_output\n",
        ")\n"
      ],
      "metadata": {
        "id": "g_yCEg_wMjpj"
      },
      "execution_count": null,
      "outputs": []
    },
    {
      "cell_type": "code",
      "source": [
        "!ffmpeg -i /content/tracked_output/15sec_input_720p.avi \\\n",
        "        -c:v libx264 -preset fast -crf 22 \\\n",
        "        /content/tracked_output/15sec_input_720p.mp4\n"
      ],
      "metadata": {
        "id": "60H5-WSOf_HQ"
      },
      "execution_count": null,
      "outputs": []
    },
    {
      "cell_type": "code",
      "source": [],
      "metadata": {
        "id": "VECd2HyygUNW"
      },
      "execution_count": null,
      "outputs": []
    }
  ]
}